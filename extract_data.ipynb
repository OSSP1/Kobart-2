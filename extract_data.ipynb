{
  "cells": [
    {
      "cell_type": "code",
      "source": [
        "from google.colab import drive\n",
        "drive.mount('/content/drive')"
      ],
      "metadata": {
        "colab": {
          "base_uri": "https://localhost:8080/"
        },
        "id": "6JbwaxL5TXnX",
        "outputId": "09ff2d1e-0d24-4c5d-d7fd-9875af9499a2"
      },
      "id": "6JbwaxL5TXnX",
      "execution_count": null,
      "outputs": [
        {
          "output_type": "stream",
          "name": "stdout",
          "text": [
            "Mounted at /content/drive\n"
          ]
        }
      ]
    },
    {
      "cell_type": "code",
      "execution_count": null,
      "id": "513f5a3f",
      "metadata": {
        "id": "513f5a3f"
      },
      "outputs": [],
      "source": [
        "import glob\n",
        "import json\n",
        "from tqdm import tqdm\n",
        "import pandas as pd\n",
        "import os"
      ]
    },
    {
      "cell_type": "code",
      "execution_count": null,
      "id": "4793c92f",
      "metadata": {
        "id": "4793c92f"
      },
      "outputs": [],
      "source": [
        "regions = ['chungcheong','jeju','jeonla','kangwon','kyeongsang']"
      ]
    },
    {
      "cell_type": "code",
      "source": [
        "%cd /content/drive/MyDrive/OSSP"
      ],
      "metadata": {
        "colab": {
          "base_uri": "https://localhost:8080/"
        },
        "id": "lo6JX7EjTepX",
        "outputId": "7a693bbe-9f35-48c0-b72c-124865042b83"
      },
      "id": "lo6JX7EjTepX",
      "execution_count": null,
      "outputs": [
        {
          "output_type": "stream",
          "name": "stdout",
          "text": [
            "/content/drive/MyDrive/OSSP\n"
          ]
        }
      ]
    },
    {
      "cell_type": "code",
      "execution_count": null,
      "id": "e4d4ce2a",
      "metadata": {
        "id": "e4d4ce2a"
      },
      "outputs": [],
      "source": [
        "files = glob.glob('data/'+regions[-1]+'/*.zip')\n",
        "files.sort()"
      ]
    },
    {
      "cell_type": "code",
      "execution_count": null,
      "id": "57f8958c",
      "metadata": {
        "id": "57f8958c"
      },
      "outputs": [],
      "source": [
        "files"
      ]
    },
    {
      "cell_type": "markdown",
      "id": "8f71ead7",
      "metadata": {
        "id": "8f71ead7"
      },
      "source": [
        "## json to df"
      ]
    },
    {
      "cell_type": "code",
      "execution_count": null,
      "id": "9b6ea235",
      "metadata": {
        "id": "9b6ea235"
      },
      "outputs": [],
      "source": [
        "def get_lst(filename):\n",
        "    try:\n",
        "        with open(filename,'r',encoding='utf-8-sig') as f:\n",
        "            data=json.load(f)\n",
        "        f.close()\n",
        "    except:\n",
        "        print(filename)\n",
        "    standard = []\n",
        "    dialect = []\n",
        "    mp_d = []\n",
        "    mp_s = []\n",
        "    mp_idx = []\n",
        "    for d in data['utterance']:\n",
        "        # 다른 형태만 가져옴\n",
        "        if d['standard_form'] != d['dialect_form']:\n",
        "            standard.append(d['standard_form'])\n",
        "            dialect.append(d['dialect_form'])\n",
        "            tmp = []\n",
        "            tmp2 = []\n",
        "            tmp3 = []\n",
        "            for el in d['eojeolList']:\n",
        "                if el['isDialect']:\n",
        "                    tmp.append(el['eojeol'])\n",
        "                    tmp2.append(el['standard'])\n",
        "                    tmp3.append(el['id'])\n",
        "            mp_d.append('_'.join(tmp))\n",
        "            mp_s.append('_'.join(tmp2))\n",
        "            mp_idx.append(' '.join([str(t) for t in tmp3]))\n",
        "    return standard, dialect, mp_d, mp_s, mp_idx"
      ]
    },
    {
      "cell_type": "code",
      "execution_count": null,
      "id": "e3a4d874",
      "metadata": {
        "id": "e3a4d874"
      },
      "outputs": [],
      "source": [
        "def extract_df(file_path, reg, tp):\n",
        "    standard_lst, dial_lst, mp_d_lst, mp_s_lst, mp_idx_lst = [], [], [], [], []\n",
        "    for fn in tqdm(file_path):\n",
        "        try:\n",
        "            standard, dialect, mp_d, mp_s, mp_idx = get_lst(fn)\n",
        "        except:\n",
        "            pass\n",
        "        standard_lst+=standard\n",
        "        dial_lst+=dialect\n",
        "        mp_d_lst+=mp_d\n",
        "        mp_s_lst+=mp_s\n",
        "        mp_idx_lst+=mp_idx\n",
        "\n",
        "    df=pd.DataFrame(columns=['standard','dialect','mp_d','mp_s','mp_idx'])\n",
        "    df['standard'] = standard_lst\n",
        "    df['dialect'] = dial_lst\n",
        "    df['mp_d'] = mp_d_lst\n",
        "    df['mp_s'] = mp_s_lst\n",
        "    df['mp_idx'] = mp_idx_lst\n",
        "    save_path = 'data/{}/{}/{}_data.tsv'.format(reg,tp,tp)\n",
        "    df.to_csv(save_path,index=False,sep='\\t')\n",
        "    print('saved in {}'.format(save_path))"
      ]
    },
    {
      "cell_type": "code",
      "execution_count": null,
      "id": "bf2b250c",
      "metadata": {
        "id": "bf2b250c"
      },
      "outputs": [],
      "source": [
        "regions = ['jeju','jeonla','kangwon','kyeongsang' , 'chungcheong']\n",
        "types= ['train','test']"
      ]
    },
    {
      "cell_type": "code",
      "execution_count": null,
      "id": "9b5cece7",
      "metadata": {
        "id": "9b5cece7"
      },
      "outputs": [],
      "source": [
        "for r in regions:\n",
        "    for t in types:\n",
        "        files = glob.glob('[라벨]제주도_학습용데이터_3/{}.json'.format(r,t))\n",
        "        print(r,t)\n",
        "        extract_df(files, r, t)"
      ]
    },
    {
      "cell_type": "markdown",
      "id": "9c66b021",
      "metadata": {
        "id": "9c66b021"
      },
      "source": [
        "## remove raw files"
      ]
    },
    {
      "cell_type": "code",
      "execution_count": null,
      "id": "96970b30",
      "metadata": {
        "id": "96970b30"
      },
      "outputs": [],
      "source": [
        "import os"
      ]
    },
    {
      "cell_type": "code",
      "execution_count": null,
      "id": "e12662fa",
      "metadata": {
        "id": "e12662fa"
      },
      "outputs": [],
      "source": [
        "regions = ['chungcheong','jeju','jeonla','kangwon','kyeongsang']\n",
        "types= ['train','test']"
      ]
    },
    {
      "cell_type": "code",
      "execution_count": null,
      "id": "afb91a58",
      "metadata": {
        "id": "afb91a58"
      },
      "outputs": [],
      "source": [
        "for r in regions:\n",
        "    for t in types:\n",
        "        for f in glob.glob('data/{}/{}/*.json'.format(r,t)):\n",
        "            os.remove(f)\n",
        "        for f in glob.glob('data/{}/{}/*.txt'.format(r,t)):\n",
        "            os.remove(f)"
      ]
    }
  ],
  "metadata": {
    "kernelspec": {
      "display_name": "Python 3",
      "language": "python",
      "name": "python3"
    },
    "language_info": {
      "codemirror_mode": {
        "name": "ipython",
        "version": 3
      },
      "file_extension": ".py",
      "mimetype": "text/x-python",
      "name": "python",
      "nbconvert_exporter": "python",
      "pygments_lexer": "ipython3",
      "version": "3.6.8"
    },
    "colab": {
      "provenance": []
    }
  },
  "nbformat": 4,
  "nbformat_minor": 5
}